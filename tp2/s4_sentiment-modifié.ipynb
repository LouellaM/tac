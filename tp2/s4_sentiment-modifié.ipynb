{
 "cells": [
  {
   "cell_type": "markdown",
   "metadata": {},
   "source": [
    "## Analyse de sentiment sur 10 phrases dans des articles de 1930"
   ]
  },
  {
   "cell_type": "code",
   "execution_count": 2,
   "metadata": {},
   "outputs": [],
   "source": [
    "import sys\n",
    "from textblob import Blobber\n",
    "from textblob_fr import PatternTagger, PatternAnalyzer"
   ]
  },
  {
   "cell_type": "code",
   "execution_count": 3,
   "metadata": {},
   "outputs": [],
   "source": [
    "tb = Blobber(pos_tagger=PatternTagger(), analyzer=PatternAnalyzer())\n",
    "\n",
    "def get_sentiment(input_text):\n",
    "    blob = tb(input_text)\n",
    "    polarity, subjectivity = blob.sentiment\n",
    "    polarity_perc = f\"{100*abs(polarity):.0f}\"\n",
    "    subjectivity_perc = f\"{100*subjectivity:.0f}\"\n",
    "    if polarity > 0:\n",
    "        polarity_str = f\"{polarity_perc}% positive\"\n",
    "    elif polarity < 0:\n",
    "        polarity_str = f\"{polarity_perc}% negative\"\n",
    "    else:\n",
    "        polarity_str = \"neutral\"\n",
    "    if subjectivity > 0:\n",
    "        subjectivity_str = f\"{subjectivity}% subjective\"\n",
    "    else:\n",
    "        subjectivity_str = \"perfectly objective\"\n",
    "    print(f\"This text is {polarity_str} and {subjectivity_str}.\")"
   ]
  },
  {
   "cell_type": "code",
   "execution_count": 4,
   "metadata": {},
   "outputs": [
    {
     "name": "stdout",
     "output_type": "stream",
     "text": [
      "This text is 30% negative and 0.3% subjective.\n"
     ]
    }
   ],
   "source": [
    "get_sentiment(\" Ces banques, qui ont appauvri la paroisse autrefois aristocratique, de Sainte-Gudùle, montrent, la nuit venue, leurs façades aveugles\")"
   ]
  },
  {
   "cell_type": "code",
   "execution_count": 5,
   "metadata": {},
   "outputs": [
    {
     "name": "stdout",
     "output_type": "stream",
     "text": [
      "This text is 0% negative and perfectly objective.\n"
     ]
    }
   ],
   "source": [
    "get_sentiment(\"Non! Non! Je ne veux pas! Claude! Renée! Je ne veux pas...\") "
   ]
  },
  {
   "cell_type": "code",
   "execution_count": 7,
   "metadata": {},
   "outputs": [
    {
     "name": "stdout",
     "output_type": "stream",
     "text": [
      "This text is 21% positive and 0.13333333333333333% subjective.\n"
     ]
    }
   ],
   "source": [
    "get_sentiment(\"On est à la veille d’un certain revirement et que certaines catégories Industrielles auront de la peine A échapper A un mouvement de réaction, la consommation ayant plutôt tendance à faiblir.\") "
   ]
  },
  {
   "cell_type": "code",
   "execution_count": 8,
   "metadata": {},
   "outputs": [
    {
     "name": "stdout",
     "output_type": "stream",
     "text": [
      "This text is 33% negative and 0.25% subjective.\n"
     ]
    }
   ],
   "source": [
    "get_sentiment(\"il a perdu l’équilibre et est blessé à la tête mais on espère le sauver,il est tombé sous les roues de son véhicule\")"
   ]
  },
  {
   "cell_type": "code",
   "execution_count": 9,
   "metadata": {},
   "outputs": [
    {
     "name": "stdout",
     "output_type": "stream",
     "text": [
      "This text is 24% positive and 0.38749999999999996% subjective.\n"
     ]
    }
   ],
   "source": [
    "get_sentiment(\"La mort de notre grand ami Arthur De Rudder, dit-il, a creusé un vide immense, car il fut la providence de beaucoup d’entre nous. A la lueur de cette flamme qui éclaire le sarcophage, recueillons-nous un instant, pour vénérer la mé-, moire de cet homme modeste et bon. que nous n'oublierons jamais.\")"
   ]
  },
  {
   "cell_type": "code",
   "execution_count": 10,
   "metadata": {},
   "outputs": [
    {
     "name": "stdout",
     "output_type": "stream",
     "text": [
      "This text is 40% negative and 0.1% subjective.\n"
     ]
    }
   ],
   "source": [
    "get_sentiment(\"La remise dû tombeau à la famille fût suivie d’un long moment de silence et de recueillement. \")"
   ]
  },
  {
   "cell_type": "code",
   "execution_count": 11,
   "metadata": {},
   "outputs": [
    {
     "name": "stdout",
     "output_type": "stream",
     "text": [
      "This text is 16% negative and 0.24750000000000003% subjective.\n"
     ]
    }
   ],
   "source": [
    "get_sentiment(\"Les bruits les plus tenaces continuent à circuler dans les milieux du Parlement, dans les salles de rédaction, partout où l’on se passionne — souvent bien à faux — pour les choses de la politique.  \")"
   ]
  },
  {
   "cell_type": "code",
   "execution_count": 13,
   "metadata": {},
   "outputs": [
    {
     "name": "stdout",
     "output_type": "stream",
     "text": [
      "This text is 1% negative and 0.3333333333333333% subjective.\n"
     ]
    }
   ],
   "source": [
    "get_sentiment(\"La vie est chère ! Tout augmente, même le prix des volailles la veille de la Noël\")"
   ]
  },
  {
   "cell_type": "code",
   "execution_count": 12,
   "metadata": {},
   "outputs": [
    {
     "name": "stdout",
     "output_type": "stream",
     "text": [
      "This text is 15% positive and 0.20000000000000004% subjective.\n"
     ]
    }
   ],
   "source": [
    "get_sentiment(\"S’il fallait croire le quart de ce que racontent le plus sérieusement du monde des gens qui se prétendent bien informés, on serait en pleine crise.\")"
   ]
  },
  {
   "cell_type": "code",
   "execution_count": 6,
   "metadata": {},
   "outputs": [
    {
     "name": "stdout",
     "output_type": "stream",
     "text": [
      "This text is 22% positive and 0.7% subjective.\n"
     ]
    }
   ],
   "source": [
    "get_sentiment(\"Nous commençons l'année en de bonnes dispositions peut-être trop passagères. \")"
   ]
  }
 ],
 "metadata": {
  "kernelspec": {
   "display_name": "tac_venv",
   "language": "python",
   "name": "python3"
  },
  "language_info": {
   "codemirror_mode": {
    "name": "ipython",
    "version": 3
   },
   "file_extension": ".py",
   "mimetype": "text/x-python",
   "name": "python",
   "nbconvert_exporter": "python",
   "pygments_lexer": "ipython3",
   "version": "3.11.5"
  },
  "orig_nbformat": 4
 },
 "nbformat": 4,
 "nbformat_minor": 2
}
