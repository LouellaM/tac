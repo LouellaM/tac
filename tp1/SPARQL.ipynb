{
 "cells": [
  {
   "cell_type": "code",
   "execution_count": 2,
   "metadata": {},
   "outputs": [],
   "source": [
    "from datetime import datetime as dt\n",
    "from SPARQLWrapper import SPARQLWrapper, JSON"
   ]
  },
  {
   "cell_type": "markdown",
   "metadata": {},
   "source": [
    "Requête SPARQL sur Wikidata"
   ]
  },
  {
   "cell_type": "code",
   "execution_count": 5,
   "metadata": {},
   "outputs": [
    {
     "name": "stdout",
     "output_type": "stream",
     "text": [
      "\n",
      "36338 female journalists found\n",
      "\n",
      "[{'person': {'type': 'uri', 'value': 'http://www.wikidata.org/entity/Q100565043'}, 'personLabel': {'type': 'literal', 'value': 'Q100565043'}, 'dateBirth': {'datatype': 'http://www.w3.org/2001/XMLSchema#dateTime', 'type': 'literal', 'value': '1968-01-01T00:00:00Z'}}, {'person': {'type': 'uri', 'value': 'http://www.wikidata.org/entity/Q100753515'}, 'personLabel': {'type': 'literal', 'value': 'Q100753515'}, 'dateBirth': {'datatype': 'http://www.w3.org/2001/XMLSchema#dateTime', 'type': 'literal', 'value': '1985-01-01T00:00:00Z'}, 'placeOfBirthLabel': {'type': 'literal', 'value': 'Q21773468'}}, {'person': {'type': 'uri', 'value': 'http://www.wikidata.org/entity/Q100832816'}, 'personLabel': {'type': 'literal', 'value': 'Q100832816'}, 'dateBirth': {'datatype': 'http://www.w3.org/2001/XMLSchema#dateTime', 'type': 'literal', 'value': '1958-01-01T00:00:00Z'}}, {'person': {'type': 'uri', 'value': 'http://www.wikidata.org/entity/Q100928859'}, 'personLabel': {'type': 'literal', 'value': 'Q100928859'}, 'dateBirth': {'datatype': 'http://www.w3.org/2001/XMLSchema#dateTime', 'type': 'literal', 'value': '1946-07-29T00:00:00Z'}, 'placeOfBirthLabel': {'xml:lang': 'en', 'type': 'literal', 'value': 'Kazmashevo'}, 'dateDeath': {'datatype': 'http://www.w3.org/2001/XMLSchema#dateTime', 'type': 'literal', 'value': '2020-10-27T00:00:00Z'}}, {'person': {'type': 'uri', 'value': 'http://www.wikidata.org/entity/Q100979798'}, 'personLabel': {'type': 'literal', 'value': 'Q100979798'}, 'dateBirth': {'datatype': 'http://www.w3.org/2001/XMLSchema#dateTime', 'type': 'literal', 'value': '1920-05-02T00:00:00Z'}, 'placeOfBirthLabel': {'xml:lang': 'en', 'type': 'literal', 'value': 'Paris'}, 'dateDeath': {'datatype': 'http://www.w3.org/2001/XMLSchema#dateTime', 'type': 'literal', 'value': '2010-06-08T00:00:00Z'}}, {'person': {'type': 'uri', 'value': 'http://www.wikidata.org/entity/Q101598680'}, 'personLabel': {'type': 'literal', 'value': 'Q101598680'}, 'dateBirth': {'datatype': 'http://www.w3.org/2001/XMLSchema#dateTime', 'type': 'literal', 'value': '1871-12-26T00:00:00Z'}, 'placeOfBirthLabel': {'xml:lang': 'en', 'type': 'literal', 'value': 'Nečín'}, 'dateDeath': {'datatype': 'http://www.w3.org/2001/XMLSchema#dateTime', 'type': 'literal', 'value': '1931-12-12T00:00:00Z'}}, {'person': {'type': 'uri', 'value': 'http://www.wikidata.org/entity/Q104012401'}, 'personLabel': {'type': 'literal', 'value': 'Q104012401'}, 'dateBirth': {'datatype': 'http://www.w3.org/2001/XMLSchema#dateTime', 'type': 'literal', 'value': '1981-09-07T00:00:00Z'}, 'placeOfBirthLabel': {'xml:lang': 'en', 'type': 'literal', 'value': 'Nefteyugansk'}}, {'person': {'type': 'uri', 'value': 'http://www.wikidata.org/entity/Q104120321'}, 'personLabel': {'type': 'literal', 'value': 'Q104120321'}, 'dateBirth': {'datatype': 'http://www.w3.org/2001/XMLSchema#dateTime', 'type': 'literal', 'value': '1975-01-01T00:00:00Z'}}, {'person': {'type': 'uri', 'value': 'http://www.wikidata.org/entity/Q10429917'}, 'personLabel': {'type': 'literal', 'value': 'Q10429917'}, 'dateBirth': {'datatype': 'http://www.w3.org/2001/XMLSchema#dateTime', 'type': 'literal', 'value': '1980-03-30T00:00:00Z'}}, {'person': {'type': 'uri', 'value': 'http://www.wikidata.org/entity/Q104381869'}, 'personLabel': {'type': 'literal', 'value': 'Q104381869'}, 'dateBirth': {'datatype': 'http://www.w3.org/2001/XMLSchema#dateTime', 'type': 'literal', 'value': '1889-06-28T00:00:00Z'}, 'dateDeath': {'datatype': 'http://www.w3.org/2001/XMLSchema#dateTime', 'type': 'literal', 'value': '1968-03-01T00:00:00Z'}}]\n"
     ]
    }
   ],
   "source": [
    "\n",
    "endpoint = \"https://query.wikidata.org/bigdata/namespace/wdq/sparql\"\n",
    "sparql = SPARQLWrapper(endpoint)\n",
    "\n",
    "# P106 = occupation\n",
    "# Q1930187 = journalist\n",
    "# P21 = sex or gender\n",
    "# Q6581072 = female\n",
    "# P569 = date of birth\n",
    "# P570 = date of death\n",
    "# P19 = place of birth\n",
    "# P1066 = occupation\n",
    "# P166 = award received\n",
    "statement = \"\"\"\n",
    "SELECT DISTINCT ?person ?personLabel ?dateBirth ?dateDeath ?placeOfBirthLabel ?occupationLabel ?awardLabel WHERE {\n",
    "  ?person wdt:P106 wd:Q1930187 .\n",
    "  ?person wdt:P21 wd:Q6581072 .\n",
    "  ?person wdt:P569 ?dateBirth .\n",
    "  OPTIONAL {?person wdt:P570 ?dateDeath .}\n",
    "  OPTIONAL {?person wdt:P19 ?placeOfBirth .}\n",
    "  OPTIONAL {?person wdt:P1066 ?occupation .}\n",
    "  OPTIONAL {?person wdt:P166 ?award .}\n",
    "  SERVICE wikibase:label { bd:serviceParam wikibase:language \"en\" . }\n",
    "}\n",
    "ORDER BY ?personLabel\n",
    "\"\"\"\n",
    "\n",
    "sparql.setQuery(statement)\n",
    "sparql.setReturnFormat(JSON)\n",
    "results = sparql.query().convert()\n",
    "\n",
    "rows = results['results']['bindings']\n",
    "print(f\"\\n{len(rows)} female journalists found\\n\")\n",
    "print(rows[:10])\n"
   ]
  }
 ],
 "metadata": {
  "kernelspec": {
   "display_name": "tac_venv",
   "language": "python",
   "name": "python3"
  },
  "language_info": {
   "codemirror_mode": {
    "name": "ipython",
    "version": 3
   },
   "file_extension": ".py",
   "mimetype": "text/x-python",
   "name": "python",
   "nbconvert_exporter": "python",
   "pygments_lexer": "ipython3",
   "version": "3.11.5"
  },
  "orig_nbformat": 4
 },
 "nbformat": 4,
 "nbformat_minor": 2
}
