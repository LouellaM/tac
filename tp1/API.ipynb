{
 "cells": [
  {
   "cell_type": "code",
   "execution_count": 1,
   "metadata": {},
   "outputs": [],
   "source": [
    "import json\n",
    "import requests"
   ]
  },
  {
   "cell_type": "markdown",
   "metadata": {},
   "source": [
    "Api d'analyse de texte: détection automatique de la langue. Peut etre utile dans le cardre du corpus Camille pour savoir facilement diviser les articles écrit en francais et les artcicles écrit en néerlandais. "
   ]
  },
  {
   "cell_type": "code",
   "execution_count": 12,
   "metadata": {},
   "outputs": [
    {
     "name": "stdout",
     "output_type": "stream",
     "text": [
      "{'app_version': 'v1.1', 'time_taken': 0.009998798370361328, 'msg': 'language detection successful', 'ok': True, 'language_probability': {'sv': '0.9999974261314742'}}\n"
     ]
    }
   ],
   "source": [
    "\n",
    "\n",
    "url = \"https://text-analysis12.p.rapidapi.com/language-detection/api/v1.1\"\n",
    "\n",
    "payload = { \"text\": \"KB_JB92_1860-02-09_01-00003.pdf\" }\n",
    "headers = {\n",
    "\t\"content-type\": \"application/json\",\n",
    "\t\"X-RapidAPI-Key\": \"342f201d44msh267d1e325feaa23p1dbef4jsn307938a11058\",\n",
    "\t\"X-RapidAPI-Host\": \"text-analysis12.p.rapidapi.com\"\n",
    "}\n",
    "\n",
    "response = requests.post(url, json=payload, headers=headers)\n",
    "\n",
    "print(response.json())"
   ]
  }
 ],
 "metadata": {
  "kernelspec": {
   "display_name": "tac_venv",
   "language": "python",
   "name": "python3"
  },
  "language_info": {
   "codemirror_mode": {
    "name": "ipython",
    "version": 3
   },
   "file_extension": ".py",
   "mimetype": "text/x-python",
   "name": "python",
   "nbconvert_exporter": "python",
   "pygments_lexer": "ipython3",
   "version": "3.11.5"
  },
  "orig_nbformat": 4
 },
 "nbformat": 4,
 "nbformat_minor": 2
}
